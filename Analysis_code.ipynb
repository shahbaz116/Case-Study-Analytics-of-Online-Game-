{
 "cells": [
  {
   "cell_type": "code",
   "execution_count": 2,
   "id": "e6fd6937-9d5e-4b51-803c-f3306e9cb409",
   "metadata": {},
   "outputs": [],
   "source": [
    "# Importing libraries \n",
    "\n",
    "import numpy as np\n",
    "import pandas as pd\n"
   ]
  },
  {
   "cell_type": "code",
   "execution_count": 3,
   "id": "0ee33f15-5215-4cf4-a762-57c820aba62e",
   "metadata": {},
   "outputs": [],
   "source": [
    "data= pd.ExcelFile(\"Analytics Position Case Study.xlsx\")"
   ]
  },
  {
   "cell_type": "code",
   "execution_count": 4,
   "id": "482f0daf-f13e-483e-94ec-17f2af616186",
   "metadata": {},
   "outputs": [],
   "source": [
    "\n",
    "# Loading and parsing each sheet into separate DataFrames\n",
    "gameplay_data = data.parse('User Gameplay data')\n",
    "deposit_data = data.parse('Deposit Data')\n",
    "withdrawal_data = data.parse('Withdrawal Data')\n"
   ]
  },
  {
   "cell_type": "code",
   "execution_count": 5,
   "id": "0cd29056-e9fa-499a-814d-814b8fc43bde",
   "metadata": {},
   "outputs": [],
   "source": [
    "# Renaming columns for unique names \n",
    "\n",
    "gameplay_data.columns = ['user_id', 'games_played', 'datetime']\n",
    "deposit_data.columns = ['user_id', 'datetime', 'deposit_amount']\n",
    "withdrawal_data.columns = ['user_id', 'datetime', 'withdrawl_amount']"
   ]
  },
  {
   "cell_type": "code",
   "execution_count": 6,
   "id": "3c8e65a3-93a0-4f3d-936c-0ab15bcb4c28",
   "metadata": {},
   "outputs": [
    {
     "data": {
      "text/html": [
       "<div>\n",
       "<style scoped>\n",
       "    .dataframe tbody tr th:only-of-type {\n",
       "        vertical-align: middle;\n",
       "    }\n",
       "\n",
       "    .dataframe tbody tr th {\n",
       "        vertical-align: top;\n",
       "    }\n",
       "\n",
       "    .dataframe thead th {\n",
       "        text-align: right;\n",
       "    }\n",
       "</style>\n",
       "<table border=\"1\" class=\"dataframe\">\n",
       "  <thead>\n",
       "    <tr style=\"text-align: right;\">\n",
       "      <th></th>\n",
       "      <th>user_id</th>\n",
       "      <th>games_played</th>\n",
       "      <th>datetime</th>\n",
       "    </tr>\n",
       "  </thead>\n",
       "  <tbody>\n",
       "    <tr>\n",
       "      <th>0</th>\n",
       "      <td>NaN</td>\n",
       "      <td>NaN</td>\n",
       "      <td>NaN</td>\n",
       "    </tr>\n",
       "    <tr>\n",
       "      <th>1</th>\n",
       "      <td>NaN</td>\n",
       "      <td>NaN</td>\n",
       "      <td>NaN</td>\n",
       "    </tr>\n",
       "    <tr>\n",
       "      <th>2</th>\n",
       "      <td>User ID</td>\n",
       "      <td>Games Played</td>\n",
       "      <td>Datetime</td>\n",
       "    </tr>\n",
       "    <tr>\n",
       "      <th>3</th>\n",
       "      <td>851</td>\n",
       "      <td>1</td>\n",
       "      <td>2022-01-10 00:00:00</td>\n",
       "    </tr>\n",
       "    <tr>\n",
       "      <th>4</th>\n",
       "      <td>717</td>\n",
       "      <td>1</td>\n",
       "      <td>2022-01-10 00:00:00</td>\n",
       "    </tr>\n",
       "  </tbody>\n",
       "</table>\n",
       "</div>"
      ],
      "text/plain": [
       "   user_id  games_played             datetime\n",
       "0      NaN           NaN                  NaN\n",
       "1      NaN           NaN                  NaN\n",
       "2  User ID  Games Played             Datetime\n",
       "3      851             1  2022-01-10 00:00:00\n",
       "4      717             1  2022-01-10 00:00:00"
      ]
     },
     "execution_count": 6,
     "metadata": {},
     "output_type": "execute_result"
    }
   ],
   "source": [
    "# Analyzing the data\n",
    "\n",
    "gameplay_data.head()"
   ]
  },
  {
   "cell_type": "code",
   "execution_count": 7,
   "id": "1d8f2000-ce50-42a5-8052-b50d8c90ade1",
   "metadata": {},
   "outputs": [
    {
     "data": {
      "text/plain": [
       "user_id         2\n",
       "games_played    2\n",
       "datetime        2\n",
       "dtype: int64"
      ]
     },
     "execution_count": 7,
     "metadata": {},
     "output_type": "execute_result"
    }
   ],
   "source": [
    "gameplay_data.isnull().sum()"
   ]
  },
  {
   "cell_type": "code",
   "execution_count": 8,
   "id": "c0f98e4d-4769-4d5c-ac75-505e6c54ef3f",
   "metadata": {},
   "outputs": [
    {
     "data": {
      "text/html": [
       "<div>\n",
       "<style scoped>\n",
       "    .dataframe tbody tr th:only-of-type {\n",
       "        vertical-align: middle;\n",
       "    }\n",
       "\n",
       "    .dataframe tbody tr th {\n",
       "        vertical-align: top;\n",
       "    }\n",
       "\n",
       "    .dataframe thead th {\n",
       "        text-align: right;\n",
       "    }\n",
       "</style>\n",
       "<table border=\"1\" class=\"dataframe\">\n",
       "  <thead>\n",
       "    <tr style=\"text-align: right;\">\n",
       "      <th></th>\n",
       "      <th>user_id</th>\n",
       "      <th>datetime</th>\n",
       "      <th>deposit_amount</th>\n",
       "    </tr>\n",
       "  </thead>\n",
       "  <tbody>\n",
       "    <tr>\n",
       "      <th>0</th>\n",
       "      <td>NaN</td>\n",
       "      <td>NaN</td>\n",
       "      <td>NaN</td>\n",
       "    </tr>\n",
       "    <tr>\n",
       "      <th>1</th>\n",
       "      <td>NaN</td>\n",
       "      <td>NaN</td>\n",
       "      <td>NaN</td>\n",
       "    </tr>\n",
       "    <tr>\n",
       "      <th>2</th>\n",
       "      <td>User Id</td>\n",
       "      <td>Datetime</td>\n",
       "      <td>Amount</td>\n",
       "    </tr>\n",
       "    <tr>\n",
       "      <th>3</th>\n",
       "      <td>357</td>\n",
       "      <td>2022-01-10 00:03:00</td>\n",
       "      <td>2000</td>\n",
       "    </tr>\n",
       "    <tr>\n",
       "      <th>4</th>\n",
       "      <td>776</td>\n",
       "      <td>2022-01-10 00:03:00</td>\n",
       "      <td>2500</td>\n",
       "    </tr>\n",
       "  </tbody>\n",
       "</table>\n",
       "</div>"
      ],
      "text/plain": [
       "   user_id             datetime deposit_amount\n",
       "0      NaN                  NaN            NaN\n",
       "1      NaN                  NaN            NaN\n",
       "2  User Id             Datetime         Amount\n",
       "3      357  2022-01-10 00:03:00           2000\n",
       "4      776  2022-01-10 00:03:00           2500"
      ]
     },
     "execution_count": 8,
     "metadata": {},
     "output_type": "execute_result"
    }
   ],
   "source": [
    "# Checking the deposit_data columns\n",
    "\n",
    "deposit_data.head()"
   ]
  },
  {
   "cell_type": "code",
   "execution_count": 9,
   "id": "173eccc9-41e8-46bc-9201-520af9419ba5",
   "metadata": {},
   "outputs": [
    {
     "data": {
      "text/plain": [
       "user_id           2\n",
       "datetime          2\n",
       "deposit_amount    2\n",
       "dtype: int64"
      ]
     },
     "execution_count": 9,
     "metadata": {},
     "output_type": "execute_result"
    }
   ],
   "source": [
    "deposit_data.isnull().sum()"
   ]
  },
  {
   "cell_type": "code",
   "execution_count": 10,
   "id": "9d999dc1-d76c-42d4-bcee-299dc76b06cd",
   "metadata": {},
   "outputs": [
    {
     "data": {
      "text/html": [
       "<div>\n",
       "<style scoped>\n",
       "    .dataframe tbody tr th:only-of-type {\n",
       "        vertical-align: middle;\n",
       "    }\n",
       "\n",
       "    .dataframe tbody tr th {\n",
       "        vertical-align: top;\n",
       "    }\n",
       "\n",
       "    .dataframe thead th {\n",
       "        text-align: right;\n",
       "    }\n",
       "</style>\n",
       "<table border=\"1\" class=\"dataframe\">\n",
       "  <thead>\n",
       "    <tr style=\"text-align: right;\">\n",
       "      <th></th>\n",
       "      <th>user_id</th>\n",
       "      <th>datetime</th>\n",
       "      <th>withdrawl_amount</th>\n",
       "    </tr>\n",
       "  </thead>\n",
       "  <tbody>\n",
       "    <tr>\n",
       "      <th>0</th>\n",
       "      <td>NaN</td>\n",
       "      <td>NaN</td>\n",
       "      <td>NaN</td>\n",
       "    </tr>\n",
       "    <tr>\n",
       "      <th>1</th>\n",
       "      <td>NaN</td>\n",
       "      <td>NaN</td>\n",
       "      <td>NaN</td>\n",
       "    </tr>\n",
       "    <tr>\n",
       "      <th>2</th>\n",
       "      <td>User Id</td>\n",
       "      <td>Datetime</td>\n",
       "      <td>Amount</td>\n",
       "    </tr>\n",
       "    <tr>\n",
       "      <th>3</th>\n",
       "      <td>190</td>\n",
       "      <td>2022-01-10 00:03:00</td>\n",
       "      <td>5872</td>\n",
       "    </tr>\n",
       "    <tr>\n",
       "      <th>4</th>\n",
       "      <td>159</td>\n",
       "      <td>2022-01-10 00:16:00</td>\n",
       "      <td>9540</td>\n",
       "    </tr>\n",
       "  </tbody>\n",
       "</table>\n",
       "</div>"
      ],
      "text/plain": [
       "   user_id             datetime withdrawl_amount\n",
       "0      NaN                  NaN              NaN\n",
       "1      NaN                  NaN              NaN\n",
       "2  User Id             Datetime           Amount\n",
       "3      190  2022-01-10 00:03:00             5872\n",
       "4      159  2022-01-10 00:16:00             9540"
      ]
     },
     "execution_count": 10,
     "metadata": {},
     "output_type": "execute_result"
    }
   ],
   "source": [
    "# Analyzing withdrawal_data\n",
    "\n",
    "withdrawal_data.head()"
   ]
  },
  {
   "cell_type": "code",
   "execution_count": 11,
   "id": "76c18cde-28f7-4384-98ea-d3070290d5a4",
   "metadata": {},
   "outputs": [
    {
     "data": {
      "text/plain": [
       "user_id             2\n",
       "datetime            2\n",
       "withdrawl_amount    2\n",
       "dtype: int64"
      ]
     },
     "execution_count": 11,
     "metadata": {},
     "output_type": "execute_result"
    }
   ],
   "source": [
    "withdrawal_data.isnull().sum()"
   ]
  },
  {
   "cell_type": "code",
   "execution_count": 12,
   "id": "cb582b73-94ac-43b0-93a5-bcac4a261084",
   "metadata": {},
   "outputs": [],
   "source": [
    "# Removing the incorrect row  at 3rd position which is headers \n",
    "\n",
    "gameplay_data = gameplay_data.dropna(subset=['user_id', 'datetime']).iloc[3:].reset_index(drop=True)\n",
    "deposit_data = deposit_data.dropna(subset=['user_id', 'datetime']).iloc[3:].reset_index(drop=True)\n",
    "withdrawal_data = withdrawal_data.dropna(subset=['user_id', 'datetime']).iloc[3:].reset_index(drop=True)\n",
    "\n"
   ]
  },
  {
   "cell_type": "code",
   "execution_count": 13,
   "id": "a06cea1e-0e64-442c-91e6-bbc3c52147df",
   "metadata": {},
   "outputs": [
    {
     "name": "stdout",
     "output_type": "stream",
     "text": [
      "  user_id games_played             datetime\n",
      "0     456            1  2022-01-10 00:00:00\n",
      "1     424            1  2022-01-10 00:00:00\n",
      "2     845            1  2022-01-10 00:00:00\n",
      "3      15            1  2022-01-10 00:00:00\n",
      "4     738            1  2022-01-10 00:00:00\n",
      "  user_id             datetime deposit_amount\n",
      "0     492  2022-01-10 00:06:00           5000\n",
      "1     803  2022-01-10 00:07:00           5000\n",
      "2     875  2022-01-10 00:09:00           1500\n",
      "3      39  2022-01-10 00:11:00           4000\n",
      "4     539  2022-01-10 00:13:00            500\n",
      "  user_id             datetime withdrawl_amount\n",
      "0     164  2022-01-10 00:24:00              815\n",
      "1     946  2022-01-10 00:29:00            23000\n",
      "2     763  2022-01-10 00:40:00             9473\n",
      "3      47  2022-01-10 01:01:00             3637\n",
      "4     302  2022-01-10 01:11:00             2000\n"
     ]
    }
   ],
   "source": [
    "print(gameplay_data.head())\n",
    "print(deposit_data.head())\n",
    "print(withdrawal_data.head())"
   ]
  },
  {
   "cell_type": "code",
   "execution_count": 14,
   "id": "e38c4246-a3d5-40b8-96b4-81ffb7ea562f",
   "metadata": {},
   "outputs": [
    {
     "name": "stdout",
     "output_type": "stream",
     "text": [
      "user_id         0\n",
      "games_played    0\n",
      "datetime        0\n",
      "dtype: int64\n",
      "user_id           0\n",
      "datetime          0\n",
      "deposit_amount    0\n",
      "dtype: int64\n",
      "user_id             0\n",
      "datetime            0\n",
      "withdrawl_amount    0\n",
      "dtype: int64\n"
     ]
    }
   ],
   "source": [
    "# checking for null or missing values\n",
    "\n",
    "print(gameplay_data.isnull().sum())\n",
    "print(deposit_data.isnull().sum())\n",
    "print(withdrawal_data.isnull().sum())"
   ]
  },
  {
   "cell_type": "code",
   "execution_count": 15,
   "id": "ab43d7eb-a669-4bdc-b4a4-b37c719b3f39",
   "metadata": {},
   "outputs": [],
   "source": [
    "# since the datetime column is not in datetime data type format, converting it into datetime\n",
    "\n",
    "# Convert 'Datetime' columns to datetime data type\n",
    "gameplay_data['datetime'] = pd.to_datetime(gameplay_data['datetime'])\n",
    "deposit_data['datetime'] = pd.to_datetime(deposit_data['datetime'])\n",
    "withdrawal_data['datetime'] = pd.to_datetime(withdrawal_data['datetime'])\n"
   ]
  },
  {
   "cell_type": "code",
   "execution_count": 29,
   "id": "981bdf49-aeef-4fc1-a824-228d5c4f3c13",
   "metadata": {},
   "outputs": [
    {
     "name": "stdout",
     "output_type": "stream",
     "text": [
      "  user_id games_played   datetime\n",
      "0     456            1 2022-01-10\n",
      "1     424            1 2022-01-10\n",
      "2     845            1 2022-01-10\n",
      "3      15            1 2022-01-10\n",
      "4     738            1 2022-01-10\n",
      "  user_id            datetime deposit_amount\n",
      "0     492 2022-01-10 00:06:00           5000\n",
      "1     803 2022-01-10 00:07:00           5000\n",
      "2     875 2022-01-10 00:09:00           1500\n",
      "3      39 2022-01-10 00:11:00           4000\n",
      "4     539 2022-01-10 00:13:00            500\n",
      "  user_id            datetime withdrawl_amount\n",
      "0     164 2022-01-10 00:24:00              815\n",
      "1     946 2022-01-10 00:29:00            23000\n",
      "2     763 2022-01-10 00:40:00             9473\n",
      "3      47 2022-01-10 01:01:00             3637\n",
      "4     302 2022-01-10 01:11:00             2000\n"
     ]
    }
   ],
   "source": [
    "print(gameplay_data.head())\n",
    "print(deposit_data.head())\n",
    "print(withdrawal_data.head())"
   ]
  },
  {
   "cell_type": "code",
   "execution_count": 30,
   "id": "99c36be4-e6c0-4ee0-bc88-6ac67060182c",
   "metadata": {},
   "outputs": [],
   "source": [
    "# Merging the gameplay, deposit, and withdrawal data on the common column with UserID and Datetime\n",
    "\n",
    "\n",
    "merge_data = pd.merge(gameplay_data, deposit_data, on=['user_id', 'datetime'], how='outer')\n",
    "merge_data = pd.merge(merge_data, withdrawal_data, on=['user_id', 'datetime'], how='outer')\n"
   ]
  },
  {
   "cell_type": "code",
   "execution_count": 31,
   "id": "caeb6b51-ac67-4a48-ac37-8dbe2f89920c",
   "metadata": {},
   "outputs": [
    {
     "name": "stdout",
     "output_type": "stream",
     "text": [
      "  user_id games_played            datetime deposit_amount withdrawl_amount\n",
      "0       0            1 2022-04-10 18:28:00            NaN              NaN\n",
      "1       0            1 2022-05-10 23:03:00            NaN              NaN\n",
      "2       0            1 2022-06-10 02:23:00            NaN              NaN\n",
      "3       0            1 2022-10-10 04:17:00            NaN              NaN\n",
      "4       0            1 2022-10-10 14:58:00            NaN              NaN\n"
     ]
    }
   ],
   "source": [
    "print(merge_data.head())"
   ]
  },
  {
   "cell_type": "code",
   "execution_count": 32,
   "id": "2f1f4871-1560-4b79-9b15-fb480112ee63",
   "metadata": {},
   "outputs": [
    {
     "data": {
      "text/plain": [
       "user_id                  0\n",
       "games_played         20650\n",
       "datetime                 0\n",
       "deposit_amount      358472\n",
       "withdrawl_amount    372350\n",
       "dtype: int64"
      ]
     },
     "execution_count": 32,
     "metadata": {},
     "output_type": "execute_result"
    }
   ],
   "source": [
    "# checking for missing values in merged data\n",
    "merge_data.isnull().sum()"
   ]
  },
  {
   "cell_type": "code",
   "execution_count": 33,
   "id": "6c21a1c0-1b79-44d9-9bc3-8c4d1cf00346",
   "metadata": {},
   "outputs": [
    {
     "name": "stderr",
     "output_type": "stream",
     "text": [
      "C:\\Users\\DELL\\AppData\\Local\\Temp\\ipykernel_34124\\647059821.py:5: FutureWarning: Downcasting object dtype arrays on .fillna, .ffill, .bfill is deprecated and will change in a future version. Call result.infer_objects(copy=False) instead. To opt-in to the future behavior, set `pd.set_option('future.no_silent_downcasting', True)`\n",
      "  merge_data['games_played'] = merge_data['games_played'].fillna(0).astype(float)\n",
      "C:\\Users\\DELL\\AppData\\Local\\Temp\\ipykernel_34124\\647059821.py:6: FutureWarning: Downcasting object dtype arrays on .fillna, .ffill, .bfill is deprecated and will change in a future version. Call result.infer_objects(copy=False) instead. To opt-in to the future behavior, set `pd.set_option('future.no_silent_downcasting', True)`\n",
      "  merge_data['deposit_amount'] = merge_data['deposit_amount'].fillna(0).astype(float)\n",
      "C:\\Users\\DELL\\AppData\\Local\\Temp\\ipykernel_34124\\647059821.py:7: FutureWarning: Downcasting object dtype arrays on .fillna, .ffill, .bfill is deprecated and will change in a future version. Call result.infer_objects(copy=False) instead. To opt-in to the future behavior, set `pd.set_option('future.no_silent_downcasting', True)`\n",
      "  merge_data['withdrawl_amount'] = merge_data['withdrawl_amount'].fillna(0).astype(float)\n"
     ]
    }
   ],
   "source": [
    "# Fill NaN values with 0 \n",
    "''' To prevent warning  .fillna(0).astype(float) on columns with object data type, we use infer_objects() after filling NaN values\n",
    "to allow Pandas to know the suitable data type'''\n",
    "\n",
    "merge_data['games_played'] = merge_data['games_played'].fillna(0).astype(float)\n",
    "merge_data['deposit_amount'] = merge_data['deposit_amount'].fillna(0).astype(float)\n",
    "merge_data['withdrawl_amount'] = merge_data['withdrawl_amount'].fillna(0).astype(float)\n",
    "\n",
    "# Automatically infer appropriate data types\n",
    "merge_data = merge_data.infer_objects()"
   ]
  },
  {
   "cell_type": "code",
   "execution_count": 34,
   "id": "9caa3f98-4e5e-4b13-b283-5bd67250b5d0",
   "metadata": {},
   "outputs": [
    {
     "name": "stdout",
     "output_type": "stream",
     "text": [
      "   user_id  games_played            datetime  deposit_amount  withdrawl_amount\n",
      "0        0           1.0 2022-04-10 18:28:00             0.0               0.0\n",
      "1        0           1.0 2022-05-10 23:03:00             0.0               0.0\n",
      "2        0           1.0 2022-06-10 02:23:00             0.0               0.0\n",
      "3        0           1.0 2022-10-10 04:17:00             0.0               0.0\n",
      "4        0           1.0 2022-10-10 14:58:00             0.0               0.0\n"
     ]
    }
   ],
   "source": [
    "print(merge_data.head())"
   ]
  },
  {
   "cell_type": "code",
   "execution_count": 35,
   "id": "4aed8ae0-14b0-4936-95ac-0163844e3cf7",
   "metadata": {},
   "outputs": [
    {
     "data": {
      "text/plain": [
       "user_id             0\n",
       "games_played        0\n",
       "datetime            0\n",
       "deposit_amount      0\n",
       "withdrawl_amount    0\n",
       "dtype: int64"
      ]
     },
     "execution_count": 35,
     "metadata": {},
     "output_type": "execute_result"
    }
   ],
   "source": [
    "# checking for missing values in merged data\n",
    "merge_data.isnull().sum()"
   ]
  },
  {
   "cell_type": "markdown",
   "id": "0968c481-070d-4ffc-8eb2-22316b4cdc4c",
   "metadata": {},
   "source": [
    "### Part A"
   ]
  },
  {
   "cell_type": "code",
   "execution_count": 36,
   "id": "ba03a207-71e9-4056-98f3-cc75b0e0a5a1",
   "metadata": {},
   "outputs": [],
   "source": [
    "#  Adding Slot column based on the time of each activity\n",
    "\n",
    "merge_data['Slot'] = merge_data['datetime'].apply(lambda x: 'S1' if x.hour < 12 else 'S2')"
   ]
  },
  {
   "cell_type": "code",
   "execution_count": 37,
   "id": "1133e505-bdbd-44d0-9d07-e8c327ae2638",
   "metadata": {},
   "outputs": [
    {
     "name": "stdout",
     "output_type": "stream",
     "text": [
      "   user_id  games_played            datetime  deposit_amount  \\\n",
      "0        0           1.0 2022-04-10 18:28:00             0.0   \n",
      "1        0           1.0 2022-05-10 23:03:00             0.0   \n",
      "2        0           1.0 2022-06-10 02:23:00             0.0   \n",
      "3        0           1.0 2022-10-10 04:17:00             0.0   \n",
      "4        0           1.0 2022-10-10 14:58:00             0.0   \n",
      "\n",
      "   withdrawl_amount Slot  \n",
      "0               0.0   S2  \n",
      "1               0.0   S2  \n",
      "2               0.0   S1  \n",
      "3               0.0   S1  \n",
      "4               0.0   S2  \n"
     ]
    }
   ],
   "source": [
    "print(merge_data.head())"
   ]
  },
  {
   "cell_type": "code",
   "execution_count": 38,
   "id": "00c84083-746c-4f2a-a2ec-4e9c7a5c787c",
   "metadata": {},
   "outputs": [],
   "source": [
    "#  Calculate points for each slot\n",
    "# Deposit Points: 0.01 * Deposit Amount\n",
    "\n",
    "merge_data['DepositPoints'] = 0.01 * merge_data['deposit_amount']\n",
    "\n",
    "# Withdrawal Points: 0.005 * Withdrawal Amount\n",
    "merge_data['WithdrawalPoints'] = 0.005 * merge_data['withdrawl_amount']"
   ]
  },
  {
   "cell_type": "code",
   "execution_count": 39,
   "id": "6d2d5f45-25f4-44ee-a483-6d4238501e45",
   "metadata": {},
   "outputs": [],
   "source": [
    "# Games Played Points: 0.2 * Games Played\n",
    "merge_data['GameplayPoints'] = 0.2 * merge_data['games_played']"
   ]
  },
  {
   "cell_type": "code",
   "execution_count": 40,
   "id": "3c2ad377-565b-473a-b044-29ac3b026c7d",
   "metadata": {},
   "outputs": [],
   "source": [
    "# Counting the frequency of deposits and withdrawals per user\n",
    "# Deposit count per user\n",
    "deposit_counts = merge_data[merge_data['deposit_amount'] > 0].groupby('user_id').size().astype(int)\n",
    "\n",
    "# Withdrawal count per user\n",
    "withdrawal_counts = merge_data[merge_data['withdrawl_amount'] > 0].groupby('user_id').size().astype(int)\n",
    "\n"
   ]
  },
  {
   "cell_type": "code",
   "execution_count": 41,
   "id": "abfdd49d-38b4-49c3-ae1e-66fa6792563c",
   "metadata": {},
   "outputs": [],
   "source": [
    "# Creating a frequency DataFrame \n",
    "frequency_data = pd.DataFrame({\n",
    "    'user_id': deposit_counts.index,  # Extract user_id from deposit_counts index\n",
    "    'DepositCount': deposit_counts.values,\n",
    "    'WithdrawalCount': withdrawal_counts.reindex(deposit_counts.index, fill_value=0).values  # Align with deposit counts\n",
    "})"
   ]
  },
  {
   "cell_type": "code",
   "execution_count": 42,
   "id": "6a131f94-37a5-4b9d-8b6b-63d1a77c1d89",
   "metadata": {},
   "outputs": [],
   "source": [
    "# Calculating Frequency Points\n",
    "frequency_data['FrequencyPoints'] = 0.001 * (frequency_data['DepositCount'] - frequency_data['WithdrawalCount']).clip(lower=0)\n"
   ]
  },
  {
   "cell_type": "code",
   "execution_count": 43,
   "id": "497f4c0c-25ff-4da5-84dd-6a737b450a17",
   "metadata": {},
   "outputs": [],
   "source": [
    "\n",
    "# Merging Frequency Points back into the main dataframe merge_data\n",
    "merge_data = merge_data.merge(frequency_data[['user_id', 'FrequencyPoints']], on='user_id', how='left')\n",
    "\n"
   ]
  },
  {
   "cell_type": "code",
   "execution_count": 44,
   "id": "89032b76-f50b-4432-902f-f5cc5f9137de",
   "metadata": {},
   "outputs": [
    {
     "data": {
      "text/plain": [
       "63149"
      ]
     },
     "execution_count": 44,
     "metadata": {},
     "output_type": "execute_result"
    }
   ],
   "source": [
    "merge_data['FrequencyPoints'].isnull().sum()"
   ]
  },
  {
   "cell_type": "code",
   "execution_count": 45,
   "id": "79b441ea-3ef5-474f-9929-3f6aba98799e",
   "metadata": {},
   "outputs": [],
   "source": [
    "# Fill any missing Frequency Points with 0\n",
    "merge_data['FrequencyPoints'] = merge_data['FrequencyPoints'].fillna(0)"
   ]
  },
  {
   "cell_type": "code",
   "execution_count": 46,
   "id": "f9b0d491-d137-4a87-9b21-6addc083a8d0",
   "metadata": {},
   "outputs": [
    {
     "name": "stdout",
     "output_type": "stream",
     "text": [
      "   user_id  games_played            datetime  deposit_amount  \\\n",
      "0        0           1.0 2022-04-10 18:28:00             0.0   \n",
      "1        0           1.0 2022-05-10 23:03:00             0.0   \n",
      "2        0           1.0 2022-06-10 02:23:00             0.0   \n",
      "3        0           1.0 2022-10-10 04:17:00             0.0   \n",
      "4        0           1.0 2022-10-10 14:58:00             0.0   \n",
      "\n",
      "   withdrawl_amount Slot  DepositPoints  WithdrawalPoints  GameplayPoints  \\\n",
      "0               0.0   S2            0.0               0.0             0.2   \n",
      "1               0.0   S2            0.0               0.0             0.2   \n",
      "2               0.0   S1            0.0               0.0             0.2   \n",
      "3               0.0   S1            0.0               0.0             0.2   \n",
      "4               0.0   S2            0.0               0.0             0.2   \n",
      "\n",
      "   FrequencyPoints  \n",
      "0              0.0  \n",
      "1              0.0  \n",
      "2              0.0  \n",
      "3              0.0  \n",
      "4              0.0  \n"
     ]
    }
   ],
   "source": [
    "print(merge_data.head())"
   ]
  },
  {
   "cell_type": "code",
   "execution_count": 47,
   "id": "42e14d00-9f40-427b-9e21-441ba79bc808",
   "metadata": {},
   "outputs": [],
   "source": [
    "# Calculating Total Loyalty Points by slot\n",
    "merge_data['LoyaltyPoints'] = merge_data.eval(\"DepositPoints + WithdrawalPoints + GameplayPoints + FrequencyPoints\")\n"
   ]
  },
  {
   "cell_type": "code",
   "execution_count": 48,
   "id": "465a0414-289a-45ca-b3e3-6037ad869559",
   "metadata": {},
   "outputs": [
    {
     "name": "stdout",
     "output_type": "stream",
     "text": [
      "   user_id  games_played            datetime  deposit_amount  \\\n",
      "0        0           1.0 2022-04-10 18:28:00             0.0   \n",
      "1        0           1.0 2022-05-10 23:03:00             0.0   \n",
      "2        0           1.0 2022-06-10 02:23:00             0.0   \n",
      "3        0           1.0 2022-10-10 04:17:00             0.0   \n",
      "4        0           1.0 2022-10-10 14:58:00             0.0   \n",
      "\n",
      "   withdrawl_amount Slot  DepositPoints  WithdrawalPoints  GameplayPoints  \\\n",
      "0               0.0   S2            0.0               0.0             0.2   \n",
      "1               0.0   S2            0.0               0.0             0.2   \n",
      "2               0.0   S1            0.0               0.0             0.2   \n",
      "3               0.0   S1            0.0               0.0             0.2   \n",
      "4               0.0   S2            0.0               0.0             0.2   \n",
      "\n",
      "   FrequencyPoints  LoyaltyPoints  \n",
      "0              0.0            0.2  \n",
      "1              0.0            0.2  \n",
      "2              0.0            0.2  \n",
      "3              0.0            0.2  \n",
      "4              0.0            0.2  \n"
     ]
    }
   ],
   "source": [
    "print(merge_data.head())"
   ]
  },
  {
   "cell_type": "code",
   "execution_count": null,
   "id": "ee38973b-9076-49fe-9b6e-31af56919baa",
   "metadata": {},
   "outputs": [],
   "source": []
  },
  {
   "cell_type": "code",
   "execution_count": null,
   "id": "03f4b9f4-356a-4b52-b13a-bd8d5a0bb41d",
   "metadata": {},
   "outputs": [],
   "source": []
  },
  {
   "cell_type": "markdown",
   "id": "ddea755c-7379-4edb-a49d-0675333491af",
   "metadata": {},
   "source": [
    "## Questions"
   ]
  },
  {
   "cell_type": "markdown",
   "id": "d36d0a5e-f23a-40bb-a120-4996eb507208",
   "metadata": {},
   "source": [
    "**1. Find Playerwise Loyalty points earned by Players in the following slots:-**\n",
    "\n",
    "    a. 2nd October Slot S1\n",
    "    b. 16th October Slot S2\n",
    "    b. 18th October Slot S1\n",
    "    b. 26th October Slot S2"
   ]
  },
  {
   "cell_type": "code",
   "execution_count": 57,
   "id": "b78edabe-6e50-4250-81a3-c998e1d49a05",
   "metadata": {},
   "outputs": [
    {
     "name": "stdout",
     "output_type": "stream",
     "text": [
      "Unique Years in Data: [2022]\n"
     ]
    }
   ],
   "source": [
    "# Extract unique years from the 'datetime' column\n",
    "unique_years = merge_data['datetime'].dt.year.unique()\n",
    "\n",
    "# printing the unique years\n",
    "print(\"Unique Years in Data:\", unique_years)\n"
   ]
  },
  {
   "cell_type": "code",
   "execution_count": 58,
   "id": "be5bcb7e-dfbd-4a1e-8cdf-6ebbd6efdaf6",
   "metadata": {},
   "outputs": [],
   "source": [
    "# Defining specific dates and slots to filter using dictionary\n",
    "date_slots = {\n",
    "    ('2022-10-02', 'S1'): '2nd October Slot S1',\n",
    "    ('2022-10-16', 'S2'): '16th October Slot S2',\n",
    "    ('2022-10-18', 'S1'): '18th October Slot S1',\n",
    "    ('2022-10-26', 'S2'): '26th October Slot S2'\n",
    "}\n",
    "\n",
    "\n",
    "\n"
   ]
  },
  {
   "cell_type": "code",
   "execution_count": 66,
   "id": "4652a3c4-ac2b-404f-8725-d0adf5a2b2c3",
   "metadata": {},
   "outputs": [],
   "source": [
    "# Filtering data for each specific date and slot, player-wise\n",
    "filtered_slots = {}\n",
    "for (date, slot), label in date_slots.items():\n",
    "    # Filtering by date and slot\n",
    "    filtered_data = merge_data[(merge_data['datetime'].dt.strftime('%Y-%m-%d') == date) & (merge_data['Slot'] == slot)]\n",
    "    \n",
    "    # Group by UserID to get playerwise loyalty points\n",
    "    playerwise_points = filtered_data.groupby('user_id')['LoyaltyPoints'].sum().reset_index()\n",
    "    \n",
    "    # Store the filtered data by label\n",
    "    filtered_slots[label] = playerwise_points"
   ]
  },
  {
   "cell_type": "code",
   "execution_count": 68,
   "id": "ba0c32c4-6b04-4896-b673-567585c33c1f",
   "metadata": {},
   "outputs": [
    {
     "name": "stdout",
     "output_type": "stream",
     "text": [
      "Loyalty points for 2nd October Slot S1:\n",
      "Empty DataFrame\n",
      "Columns: [user_id, LoyaltyPoints]\n",
      "Index: []\n",
      "Loyalty points for 16th October Slot S2:\n",
      "   user_id  LoyaltyPoints\n",
      "0        2          0.400\n",
      "1        5         12.438\n",
      "2        6          0.207\n",
      "3        8          1.000\n",
      "4        9         35.452\n",
      "Loyalty points for 18th October Slot S1:\n",
      "   user_id  LoyaltyPoints\n",
      "0        2          0.400\n",
      "1        3          0.408\n",
      "2        5          2.064\n",
      "3        7          0.600\n",
      "4        8          1.800\n",
      "Loyalty points for 26th October Slot S2:\n",
      "   user_id  LoyaltyPoints\n",
      "0        2        900.000\n",
      "1        5         11.090\n",
      "2        6          0.207\n",
      "3        7         33.285\n",
      "4        8          1.400\n"
     ]
    }
   ],
   "source": [
    "# Print results for each specific slot\n",
    "\n",
    "for label, data in filtered_slots.items():\n",
    "    print(f\"Loyalty points for {label}:\")\n",
    "    print(data.head())"
   ]
  },
  {
   "cell_type": "markdown",
   "id": "49350fd9-2d26-4792-8a11-e53d0e6c478f",
   "metadata": {},
   "source": [
    "#### As the 2nd October date is not available in dataset,  therefore its showing empty dataframe"
   ]
  },
  {
   "cell_type": "markdown",
   "id": "94a6c5c6-9549-421f-a60a-13d1f3abb3d5",
   "metadata": {},
   "source": [
    "**2. Calculate overall loyalty points earned and rank players on the basis of loyalty points in the month of October. \n",
    "     In case of tie, number of games played should be taken as the next criteria for ranking.**"
   ]
  },
  {
   "cell_type": "code",
   "execution_count": 71,
   "id": "5f9a9040-5425-4a71-91a3-1e1c3394c5e0",
   "metadata": {},
   "outputs": [],
   "source": [
    "# Filtering data for the month of October\n",
    "october_data = merge_data[merge_data['datetime'].dt.month == 10]\n",
    "\n",
    "# Calculate total loyalty points and games played for each player in October\n",
    "october_points = october_data.groupby('user_id').agg({\n",
    "    'LoyaltyPoints': 'sum',\n",
    "    'games_played': 'sum'\n",
    "}).reset_index()\n",
    "\n",
    "# Sorting by TotalLoyaltyPoints first, then by GamesPlayed to resolve ties\n",
    "october_points = october_points.sort_values(by=['LoyaltyPoints', 'games_played'], ascending=[False, False])\n",
    "\n"
   ]
  },
  {
   "cell_type": "code",
   "execution_count": 72,
   "id": "6a9c3ea7-80ef-47d1-8c51-43b83fb73de1",
   "metadata": {},
   "outputs": [
    {
     "name": "stdout",
     "output_type": "stream",
     "text": [
      "Ranked Players for October based on Loyalty Points and Games Played:\n",
      "     user_id  LoyaltyPoints  games_played  Rank\n",
      "632      634      61121.160          22.0     1\n",
      "712      714      14791.752           4.0     2\n",
      "210      212      13947.618           0.0     3\n",
      "670      672      13239.620           8.0     4\n",
      "97        99      12471.237           4.0     5\n",
      "..       ...            ...           ...   ...\n",
      "48        49          0.202           1.0   992\n",
      "544      546          0.202           1.0   993\n",
      "386      388          0.200           1.0   994\n",
      "505      507          0.200           1.0   995\n",
      "769      771          0.200           1.0   996\n",
      "\n",
      "[996 rows x 4 columns]\n"
     ]
    }
   ],
   "source": [
    "# Rank players based on loyalty points with games played as tiebreaker\n",
    "october_points['Rank'] = range(1, len(october_points) + 1)\n",
    "\n",
    "# Print results\n",
    "print(\"Ranked Players for October based on Loyalty Points and Games Played:\")\n",
    "print(october_points[['user_id', 'LoyaltyPoints', 'games_played', 'Rank']])\n"
   ]
  },
  {
   "cell_type": "markdown",
   "id": "4a3c6012-eea2-4048-8a29-22c281e71590",
   "metadata": {},
   "source": [
    "**3. What is the average deposit amount?**"
   ]
  },
  {
   "cell_type": "code",
   "execution_count": 77,
   "id": "6822fc77-bdac-485c-9c51-b5349e47760e",
   "metadata": {},
   "outputs": [
    {
     "name": "stdout",
     "output_type": "stream",
     "text": [
      "Average Deposit Amount: 5492.557295251205\n"
     ]
    }
   ],
   "source": [
    "# Calculate the average deposit amount across all records\n",
    "average_deposit = deposit_data['deposit_amount'].mean()\n",
    "\n",
    "# Print the result\n",
    "print(f\"Average Deposit Amount: {average_deposit}\")\n"
   ]
  },
  {
   "cell_type": "markdown",
   "id": "47cecd5a-7a48-45c9-8bc4-29bf99e83c7e",
   "metadata": {},
   "source": [
    "**4. What is the average deposit amount per user in a month?**"
   ]
  },
  {
   "cell_type": "code",
   "execution_count": 78,
   "id": "f3283a13-5ddf-4bbc-869a-32e989350453",
   "metadata": {},
   "outputs": [],
   "source": [
    "# Add a Month column to the deposit data for grouping\n",
    "deposit_data['Month'] = deposit_data['datetime'].dt.to_period('M')\n",
    "\n",
    "# Calculate the average deposit per user per month\n",
    "user_monthly_average = merge_data.groupby(['user_id', 'Month'])['deposit_amount'].mean().reset_index()\n"
   ]
  },
  {
   "cell_type": "code",
   "execution_count": 79,
   "id": "05def39a-39bc-416e-b706-5fbf2b8651ac",
   "metadata": {},
   "outputs": [
    {
     "name": "stdout",
     "output_type": "stream",
     "text": [
      "Average Deposit Amount per User per Month: 1257.9576025893493\n"
     ]
    }
   ],
   "source": [
    "# Calculate the overall average of these monthly averages across all users\n",
    "average_deposit_user = user_monthly_average['deposit_amount'].mean()\n",
    "\n",
    "# Print the result\n",
    "print(f\"Average Deposit Amount per User per Month: {average_deposit_user}\")"
   ]
  },
  {
   "cell_type": "code",
   "execution_count": null,
   "id": "4bd1056e-e643-412b-925c-b41592181dba",
   "metadata": {},
   "outputs": [],
   "source": []
  },
  {
   "cell_type": "markdown",
   "id": "8fc4d686-bd11-4f55-9d92-07cb9bec6a3f",
   "metadata": {},
   "source": [
    "**5. What is the average number of games played per user?**"
   ]
  },
  {
   "cell_type": "code",
   "execution_count": 82,
   "id": "fca62cbd-2314-4b12-b595-8d0706034604",
   "metadata": {},
   "outputs": [],
   "source": [
    "# Calculating the total number of games played per user\n",
    "total_games = gameplay_data.groupby('user_id')['games_played'].sum().reset_index()\n",
    "\n",
    "# Calculate the overall average games played per user\n",
    "average_games_played = total_games['games_played'].mean()\n"
   ]
  },
  {
   "cell_type": "code",
   "execution_count": 83,
   "id": "85331d7e-121c-4748-bb12-19f40c7a797e",
   "metadata": {},
   "outputs": [
    {
     "name": "stdout",
     "output_type": "stream",
     "text": [
      "Average Number of Games Played per User: 355.265\n"
     ]
    }
   ],
   "source": [
    "# Print the result\n",
    "print(f\"Average Number of Games Played per User: {average_games_played}\")\n"
   ]
  },
  {
   "cell_type": "markdown",
   "id": "8a839b02-db85-431e-b2af-7f41e97efc41",
   "metadata": {},
   "source": [
    "### Part B"
   ]
  },
  {
   "cell_type": "markdown",
   "id": "ae5596b3-8b28-4fe3-b128-b59d1d2ed041",
   "metadata": {},
   "source": [
    "**How much bonus should be allocated to leaderboard players?**"
   ]
  },
  {
   "cell_type": "markdown",
   "id": "b48bc465-a3a1-4c43-ba23-5f671a32687d",
   "metadata": {},
   "source": [
    "**After calculating the loyalty points for the whole month find out which 50 players are at the top of the leaderboard. The company has allocated a pool of Rs 50000 to be given away as bonus money to the loyal players.\n",
    "\n",
    "Now the company needs to determine how much bonus money should be given to the players.\n",
    "\n",
    "Should they base it on the amount of loyalty points? Should it be based on number of games? Or something else?\n",
    "\n",
    "That’s for you to figure out.**\n",
    "\n",
    "Suggest a suitable way to divide the allocated money keeping in mind the following points:\n",
    "1. Only top 50 ranked players are awarded bonus\n"
   ]
  },
  {
   "cell_type": "code",
   "execution_count": 85,
   "id": "8f662eda-8652-4536-b3df-492ab35c728d",
   "metadata": {},
   "outputs": [
    {
     "name": "stdout",
     "output_type": "stream",
     "text": [
      "Top 50 Players for October based on Loyalty Points and Games Played:\n",
      "     user_id  LoyaltyPoints  games_played  Rank\n",
      "632      634      61121.160          22.0     1\n",
      "712      714      14791.752           4.0     2\n",
      "210      212      13947.618           0.0     3\n",
      "670      672      13239.620           8.0     4\n",
      "97        99      12471.237           4.0     5\n",
      "564      566      12128.300         106.0     6\n",
      "367      369      11137.266          22.0     7\n",
      "738      740      11011.712           2.0     8\n",
      "30        30      10804.875           9.0     9\n",
      "363      365      10389.775        2368.0    10\n",
      "567      569       9943.789          25.0    11\n",
      "989      992       9514.384        1601.0    12\n",
      "419      421       9432.740         989.0    13\n",
      "917      920       8902.875         614.0    14\n",
      "236      238       8603.480         574.0    15\n",
      "2          2       7925.530          66.0    16\n",
      "350      352       7829.590         182.0    17\n",
      "676      678       7772.304           9.0    18\n",
      "784      786       7258.632           6.0    19\n",
      "912      915       7194.443           7.0    20\n",
      "160      162       6914.600           0.0    21\n",
      "220      222       6851.208           5.0    22\n",
      "975      978       6830.640          52.0    23\n",
      "342      344       6741.884           1.0    24\n",
      "536      538       6697.804          20.0    25\n",
      "413      415       6497.620          19.0    26\n",
      "906      909       6495.460           0.0    27\n",
      "76        78       6487.800         379.0    28\n",
      "206      208       6482.366         333.0    29\n",
      "599      601       6301.708          22.0    30\n",
      "986      989       6225.600        2303.0    31\n",
      "28        28       6162.397          24.0    32\n",
      "585      587       5931.345         486.0    33\n",
      "180      182       5923.400        1572.0    34\n",
      "304      306       5656.152           3.0    35\n",
      "292      294       5564.243           4.0    36\n",
      "91        93       5499.116         291.0    37\n",
      "673      675       5275.997         419.0    38\n",
      "198      200       5265.420           2.0    39\n",
      "257      259       5134.385          66.0    40\n",
      "973      976       4901.040           4.0    41\n",
      "610      612       4670.350         980.0    42\n",
      "685      687       4630.471        1106.0    43\n",
      "665      667       4541.007         191.0    44\n",
      "854      856       4539.180        3869.0    45\n",
      "538      540       4389.045        1481.0    46\n",
      "679      681       4233.952           6.0    47\n",
      "513      515       4206.856         273.0    48\n",
      "947      950       4122.360           2.0    49\n",
      "80        82       4111.850           3.0    50\n"
     ]
    }
   ],
   "source": [
    "# Sort october_points by TotalLoyaltyPoints in descending order\n",
    "#october_points = october_points.sort_values(by=['TotalLoyaltyPoints', 'GamesPlayed'], ascending=[False, False])\n",
    "\n",
    "# Select the top 50 players\n",
    "top_50_players = october_points.head(50)\n",
    "\n",
    "# Print the top 50 players\n",
    "print(\"Top 50 Players for October based on Loyalty Points and Games Played:\")\n",
    "print(top_50_players[['user_id', 'LoyaltyPoints', 'games_played', 'Rank']])\n"
   ]
  },
  {
   "cell_type": "markdown",
   "id": "31c131a1-b3ea-4f78-8c0a-068f3398cdf3",
   "metadata": {},
   "source": [
    "#### To allocate the Rs 50,000 bonus pool among the top 50 players, we’ll use a weighted formula: \n",
    "\n",
    "***80% based on Loyalty Points: Rewards players for deposits, withdrawals, and overall loyalty.***\n",
    "\n",
    "***20% based on Games Played: Encourages frequent engagement and gameplay.***"
   ]
  },
  {
   "cell_type": "markdown",
   "id": "d9623895-fc3c-413c-b84d-1c9c2776d40a",
   "metadata": {},
   "source": [
    "#### Formula"
   ]
  },
  {
   "cell_type": "markdown",
   "id": "d388e5a0-1779-49ec-b11c-b857d0af7a21",
   "metadata": {},
   "source": [
    "**Bonus = ((Player's Loyalty Points / Total Loyalty Points of Top 50) * 0.8 + (Player's Games Played / Total Games Played of Top 50) * 0.2) * 50000**\n"
   ]
  },
  {
   "cell_type": "markdown",
   "id": "dab906bb-2aeb-4d58-8927-0d19bd1a99b6",
   "metadata": {},
   "source": [
    "### Part C"
   ]
  },
  {
   "cell_type": "markdown",
   "id": "20485d3d-af34-4b50-9590-7654f2c0337f",
   "metadata": {},
   "source": [
    "\n",
    "\n",
    "#### Would you say the loyalty point formula is fair or unfair?\n",
    "\n",
    "\n",
    "***The formula is fair overall but could be adjusted based on company goals. It effectively rewards players who spend more and play often. However, adding a small bonus for long-term, consistent players could further encourage loyalty among those who may not spend as much but are active on the platform regularly.***\n",
    "\t\t\t\t\t\t\t\t\t\t\t"
   ]
  },
  {
   "cell_type": "markdown",
   "id": "a22b513d-804d-4b8e-9868-cbfe745eefdc",
   "metadata": {},
   "source": []
  },
  {
   "cell_type": "markdown",
   "id": "692214cc-267b-4b16-9648-fc36e8ce7a7a",
   "metadata": {},
   "source": [
    "#### Can you suggest any way to make the loyalty point formula more robust?"
   ]
  },
  {
   "cell_type": "markdown",
   "id": "fd51fe1a-ebe0-4213-b0fe-5e7d7ba943df",
   "metadata": {},
   "source": [
    "**To make the loyalty formula more robust, we can:**\n",
    "\n",
    "\n",
    "1.Use Time-Based Multipliers to boost points during off-peak hours or events.\n",
    "\n",
    "2.Rewards System Engagement for players who deposit, play, and withdraw regularly.\n",
    "   \n",
    "3.Introduce Loyalty Tiers with higher multipliers for reaching certain thresholds.\n",
    "\n",
    "4.Add Referral Bonuses to encourage community growth."
   ]
  },
  {
   "cell_type": "code",
   "execution_count": null,
   "id": "a6576821-8296-4fab-9397-08ed7200bce2",
   "metadata": {},
   "outputs": [],
   "source": []
  }
 ],
 "metadata": {
  "kernelspec": {
   "display_name": "Python 3 (ipykernel)",
   "language": "python",
   "name": "python3"
  },
  "language_info": {
   "codemirror_mode": {
    "name": "ipython",
    "version": 3
   },
   "file_extension": ".py",
   "mimetype": "text/x-python",
   "name": "python",
   "nbconvert_exporter": "python",
   "pygments_lexer": "ipython3",
   "version": "3.11.9"
  }
 },
 "nbformat": 4,
 "nbformat_minor": 5
}
